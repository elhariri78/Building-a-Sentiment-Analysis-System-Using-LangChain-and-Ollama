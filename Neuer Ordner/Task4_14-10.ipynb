{
 "cells": [
  {
   "cell_type": "markdown",
   "id": "ed0add15-262d-45cd-860e-97059fba932f",
   "metadata": {},
   "source": [
    "## Building a Sentiment Analysis System Using LangChain and Ollama"
   ]
  },
  {
   "cell_type": "code",
   "execution_count": null,
   "id": "95120841-f01e-4c51-82e7-a9a31d324116",
   "metadata": {},
   "outputs": [
    {
     "name": "stderr",
     "output_type": "stream",
     "text": [
      "/var/folders/hz/q6s587x552g8gjccdrvpd1pm0000gn/T/ipykernel_7462/2056731385.py:18: LangChainDeprecationWarning: The method `Chain.run` was deprecated in langchain 0.1.0 and will be removed in 1.0. Use :meth:`~invoke` instead.\n",
      "  sentiment = chain.run(text=text)\n"
     ]
    },
    {
     "name": "stdout",
     "output_type": "stream",
     "text": [
      "Text: 'I absolutely love this product! It works wonders.' => Sentiment: The sentiment of the text is positive.\n",
      "Text: 'This is the worst experience I've ever had.' => Sentiment: The sentiment of this text is negative. The use of the word \"worst\" to describe an experience indicates a strong negative emotion.\n",
      "Text: 'It's okay, not great but not terrible.' => Sentiment: The sentiment of the text is neutral. The speaker seems to be expressing a lukewarm or mediocre opinion, neither strongly praising nor criticizing something.\n"
     ]
    },
    {
     "name": "stdin",
     "output_type": "stream",
     "text": [
      "\n",
      "Enter text to classify (or 'exit' to quit):  i was in Holland it is very beutiful place\n"
     ]
    },
    {
     "name": "stdout",
     "output_type": "stream",
     "text": [
      "Text: 'i was in Holland it is very beutiful place' => Sentiment: The sentiment of the text can be classified as Positive. The words used, such as \"very beautiful\" and the adjective \"beautifull\" (note: I assume you meant \"beautiful\"), convey a sense of admiration and appreciation for the country, indicating a positive emotional tone.\n"
     ]
    },
    {
     "name": "stdin",
     "output_type": "stream",
     "text": [
      "\n",
      "Enter text to classify (or 'exit' to quit):  i hate Football \n"
     ]
    },
    {
     "name": "stdout",
     "output_type": "stream",
     "text": [
      "Text: 'i hate Football ' => Sentiment: The sentiment of the text is negative.\n"
     ]
    },
    {
     "name": "stdin",
     "output_type": "stream",
     "text": [
      "\n",
      "Enter text to classify (or 'exit' to quit):  i am working everyday\n"
     ]
    },
    {
     "name": "stdout",
     "output_type": "stream",
     "text": [
      "Text: 'i am working everyday' => Sentiment: The sentiment of the text is neutral. The text simply states a fact about the person's work routine without expressing any emotion or opinion.\n"
     ]
    }
   ],
   "source": [
    "from langchain_ollama.llms import OllamaLLM\n",
    "from langchain.chains import LLMChain\n",
    "from langchain.prompts import PromptTemplate\n",
    "\n",
    "# Initialize the Ollama LLM\n",
    "model = OllamaLLM(model=\"llama3.2:3b\")\n",
    "\n",
    "# Create a prompt template\n",
    "prompt_template = PromptTemplate(\n",
    "    input_variables=[\"text\"],\n",
    "    template=\"Classify the sentiment of the following text into positive, negative, or neutral:\\n\\n{text}\\n\\nSentiment:\"\n",
    ")\n",
    "\n",
    "# Function to classify sentiment\n",
    "def classify_sentiment(text):\n",
    "    chain = LLMChain(llm=model, prompt=prompt_template)\n",
    "    try:\n",
    "        sentiment = chain.run(text=text)\n",
    "        return sentiment.strip()\n",
    "    except Exception as e:\n",
    "        return f\"Error: {str(e)}\"\n",
    "\n",
    "# Test the function with sample inputs\n",
    "if __name__ == \"__main__\":\n",
    "    sample_texts = [\n",
    "        \"I absolutely love this product! It works wonders.\",\n",
    "        \"This is the worst experience I've ever had.\",\n",
    "        \"It's okay, not great but not terrible.\"\n",
    "    ]\n",
    "\n",
    "    for text in sample_texts:\n",
    "        sentiment = classify_sentiment(text)\n",
    "        print(f\"Text: '{text}' => Sentiment: {sentiment}\")\n",
    "\n",
    "    # Example of dynamic input\n",
    "    while True:\n",
    "        user_input = input(\"\\nEnter text to classify (or 'exit' to quit): \")\n",
    "        if user_input.lower() == 'exit':\n",
    "            break\n",
    "        sentiment = classify_sentiment(user_input)\n",
    "        print(f\"Text: '{user_input}' => Sentiment: {sentiment}\")\n"
   ]
  }
 ],
 "metadata": {
  "kernelspec": {
   "display_name": "Python 3 (ipykernel)",
   "language": "python",
   "name": "python3"
  },
  "language_info": {
   "codemirror_mode": {
    "name": "ipython",
    "version": 3
   },
   "file_extension": ".py",
   "mimetype": "text/x-python",
   "name": "python",
   "nbconvert_exporter": "python",
   "pygments_lexer": "ipython3",
   "version": "3.12.2"
  }
 },
 "nbformat": 4,
 "nbformat_minor": 5
}
